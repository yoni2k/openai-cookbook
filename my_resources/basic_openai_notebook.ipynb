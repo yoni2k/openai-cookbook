{
 "cells": [
  {
   "cell_type": "code",
   "execution_count": null,
   "id": "f72eb639",
   "metadata": {},
   "outputs": [],
   "source": [
    "# !pip install openai"
   ]
  },
  {
   "cell_type": "code",
   "execution_count": 1,
   "id": "176e0958",
   "metadata": {
    "ExecuteTime": {
     "end_time": "2023-05-17T15:05:30.531044Z",
     "start_time": "2023-05-17T15:05:29.740778Z"
    }
   },
   "outputs": [],
   "source": [
    "import openai"
   ]
  },
  {
   "cell_type": "code",
   "execution_count": 2,
   "id": "19a3293e",
   "metadata": {
    "ExecuteTime": {
     "end_time": "2023-05-17T15:05:37.593891Z",
     "start_time": "2023-05-17T15:05:37.584334Z"
    }
   },
   "outputs": [],
   "source": [
    "openai.api_key = ''\n",
    "# openai.api_key = os.getenv(\"OPENAI_API_KEY\")"
   ]
  },
  {
   "cell_type": "code",
   "execution_count": 3,
   "id": "4d09a773",
   "metadata": {
    "ExecuteTime": {
     "end_time": "2023-05-17T15:05:41.060377Z",
     "start_time": "2023-05-17T15:05:41.045083Z"
    }
   },
   "outputs": [],
   "source": [
    "def generate_prompt(animal):\n",
    "    return \"\"\"Suggest three names for an animal that is a superhero.\n",
    "\n",
    "Animal: Cat\n",
    "Names: Captain Sharpclaw, Agent Fluffball, The Incredible Feline\n",
    "Animal: Dog\n",
    "Names: Ruff the Protector, Wonder Canine, Sir Barks-a-Lot\n",
    "Animal: {}\n",
    "Names:\"\"\".format(\n",
    "        animal.capitalize()\n",
    "    )\n"
   ]
  },
  {
   "cell_type": "code",
   "execution_count": 4,
   "id": "978067ae",
   "metadata": {
    "ExecuteTime": {
     "end_time": "2023-05-17T15:05:41.543811Z",
     "start_time": "2023-05-17T15:05:41.524380Z"
    }
   },
   "outputs": [
    {
     "name": "stdout",
     "output_type": "stream",
     "text": [
      "Suggest three names for an animal that is a superhero.\n",
      "\n",
      "Animal: Cat\n",
      "Names: Captain Sharpclaw, Agent Fluffball, The Incredible Feline\n",
      "Animal: Dog\n",
      "Names: Ruff the Protector, Wonder Canine, Sir Barks-a-Lot\n",
      "Animal: Bear\n",
      "Names:\n",
      "Suggest three names for an animal that is a superhero.\n",
      "\n",
      "Animal: Cat\n",
      "Names: Captain Sharpclaw, Agent Fluffball, The Incredible Feline\n",
      "Animal: Dog\n",
      "Names: Ruff the Protector, Wonder Canine, Sir Barks-a-Lot\n",
      "Animal: Bear\n",
      "Names:\n"
     ]
    }
   ],
   "source": [
    "print(generate_prompt('Bear'))"
   ]
  },
  {
   "cell_type": "code",
   "execution_count": 5,
   "id": "03dc30c6",
   "metadata": {
    "ExecuteTime": {
     "end_time": "2023-05-17T15:05:45.868925Z",
     "start_time": "2023-05-17T15:05:43.086885Z"
    }
   },
   "outputs": [
    {
     "data": {
      "text/plain": [
       "' Mighty Ursa, Super Grizzly, Captain Kodiak'"
      ]
     },
     "execution_count": 5,
     "metadata": {},
     "output_type": "execute_result"
    }
   ],
   "source": [
    "response = openai.Completion.create(\n",
    "            model=\"text-davinci-003\",\n",
    "            prompt=generate_prompt('Bear'),\n",
    "            temperature=0.6,\n",
    "        )\n",
    "response.choices[0].text"
   ]
  },
  {
   "cell_type": "code",
   "execution_count": null,
   "id": "663c1b9f",
   "metadata": {},
   "outputs": [],
   "source": []
  }
 ],
 "metadata": {
  "hide_input": false,
  "kernelspec": {
   "display_name": "Python 3 (ipykernel)",
   "language": "python",
   "name": "python3"
  },
  "language_info": {
   "codemirror_mode": {
    "name": "ipython",
    "version": 3
   },
   "file_extension": ".py",
   "mimetype": "text/x-python",
   "name": "python",
   "nbconvert_exporter": "python",
   "pygments_lexer": "ipython3",
   "version": "3.10.11"
  },
  "toc": {
   "base_numbering": 1,
   "nav_menu": {},
   "number_sections": true,
   "sideBar": true,
   "skip_h1_title": false,
   "title_cell": "Table of Contents",
   "title_sidebar": "Contents",
   "toc_cell": false,
   "toc_position": {},
   "toc_section_display": true,
   "toc_window_display": false
  },
  "varInspector": {
   "cols": {
    "lenName": 16,
    "lenType": 16,
    "lenVar": 40
   },
   "kernels_config": {
    "python": {
     "delete_cmd_postfix": "",
     "delete_cmd_prefix": "del ",
     "library": "var_list.py",
     "varRefreshCmd": "print(var_dic_list())"
    },
    "r": {
     "delete_cmd_postfix": ") ",
     "delete_cmd_prefix": "rm(",
     "library": "var_list.r",
     "varRefreshCmd": "cat(var_dic_list()) "
    }
   },
   "types_to_exclude": [
    "module",
    "function",
    "builtin_function_or_method",
    "instance",
    "_Feature"
   ],
   "window_display": false
  }
 },
 "nbformat": 4,
 "nbformat_minor": 5
}
